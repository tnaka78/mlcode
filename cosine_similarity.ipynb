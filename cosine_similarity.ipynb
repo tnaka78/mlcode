{
  "nbformat": 4,
  "nbformat_minor": 0,
  "metadata": {
    "colab": {
      "name": "cosine_similarity.ipynb",
      "provenance": [],
      "include_colab_link": true
    },
    "kernelspec": {
      "name": "python3",
      "display_name": "Python 3"
    }
  },
  "cells": [
    {
      "cell_type": "markdown",
      "metadata": {
        "id": "view-in-github",
        "colab_type": "text"
      },
      "source": [
        "<a href=\"https://colab.research.google.com/github/tnaka78/mlcode/blob/master/cosine_similarity.ipynb\" target=\"_parent\"><img src=\"https://colab.research.google.com/assets/colab-badge.svg\" alt=\"Open In Colab\"/></a>"
      ]
    },
    {
      "cell_type": "markdown",
      "metadata": {
        "id": "WAIhO1Kpf15F",
        "colab_type": "text"
      },
      "source": [
        "# Implementation of cosine similarity"
      ]
    },
    {
      "cell_type": "code",
      "metadata": {
        "id": "7G5ql2MdYmqo",
        "colab_type": "code",
        "colab": {
          "base_uri": "https://localhost:8080/",
          "height": 63
        },
        "outputId": "63c1f4bc-f75e-43c3-97d8-145201f8b276"
      },
      "source": [
        "import numpy as np\n",
        "from sklearn.metrics.pairwise import cosine_similarity\n",
        "import tensorflow as tf"
      ],
      "execution_count": 1,
      "outputs": [
        {
          "output_type": "display_data",
          "data": {
            "text/html": [
              "<p style=\"color: red;\">\n",
              "The default version of TensorFlow in Colab will soon switch to TensorFlow 2.x.<br>\n",
              "We recommend you <a href=\"https://www.tensorflow.org/guide/migrate\" target=\"_blank\">upgrade</a> now \n",
              "or ensure your notebook will continue to use TensorFlow 1.x via the <code>%tensorflow_version 1.x</code> magic:\n",
              "<a href=\"https://colab.research.google.com/notebooks/tensorflow_version.ipynb\" target=\"_blank\">more info</a>.</p>\n"
            ],
            "text/plain": [
              "<IPython.core.display.HTML object>"
            ]
          },
          "metadata": {
            "tags": []
          }
        }
      ]
    },
    {
      "cell_type": "markdown",
      "metadata": {
        "id": "LJwCIJ1Mf5t0",
        "colab_type": "text"
      },
      "source": [
        "## Matrix definition"
      ]
    },
    {
      "cell_type": "code",
      "metadata": {
        "id": "-8CtuwxrZ51w",
        "colab_type": "code",
        "colab": {}
      },
      "source": [
        "matrix = np.array(\n",
        "    [[0.9, 0.8, 0.7, 0.1, 0.2, 0.3],\n",
        "     [0.8, 0.7, 0.6, 0.2, 0.3, 0.4],\n",
        "     [0.5, 0.5, 0.5, 0.5, 0.5, 0.5],\n",
        "     [0.2, 0.3, 0.4, 0.6, 0.7, 0.8],\n",
        "     [0.1, 0.2, 0.3, 0.7, 0.8, 0.9]]\n",
        ")"
      ],
      "execution_count": 0,
      "outputs": []
    },
    {
      "cell_type": "markdown",
      "metadata": {
        "id": "locxVFBCf7nK",
        "colab_type": "text"
      },
      "source": [
        "## scikit-learn\n",
        "Use [sklearn.metrics.pairwise.cosine_similarity](https://scikit-learn.org/stable/modules/generated/sklearn.metrics.pairwise.cosine_similarity.html)."
      ]
    },
    {
      "cell_type": "code",
      "metadata": {
        "id": "z-rUOGmOaOAz",
        "colab_type": "code",
        "colab": {
          "base_uri": "https://localhost:8080/",
          "height": 105
        },
        "outputId": "cfa0946d-a6c5-47b9-9e1a-fea679bf7a3a"
      },
      "source": [
        "cosine_similarity(matrix)"
      ],
      "execution_count": 3,
      "outputs": [
        {
          "output_type": "execute_result",
          "data": {
            "text/plain": [
              "array([[1.        , 0.98744277, 0.84920778, 0.59246566, 0.46153846],\n",
              "       [0.98744277, 1.        , 0.91798509, 0.70786517, 0.59246566],\n",
              "       [0.84920778, 0.91798509, 1.        , 0.91798509, 0.84920778],\n",
              "       [0.59246566, 0.70786517, 0.91798509, 1.        , 0.98744277],\n",
              "       [0.46153846, 0.59246566, 0.84920778, 0.98744277, 1.        ]])"
            ]
          },
          "metadata": {
            "tags": []
          },
          "execution_count": 3
        }
      ]
    },
    {
      "cell_type": "markdown",
      "metadata": {
        "id": "5S0O_3mPk1Xy",
        "colab_type": "text"
      },
      "source": [
        "## numpy"
      ]
    },
    {
      "cell_type": "markdown",
      "metadata": {
        "id": "Ly2glbNigVjZ",
        "colab_type": "text"
      },
      "source": [
        "### numpy implementation (1)\n",
        " 1. Devide the matrix by L2-norm (L2 normalization).\n",
        " 2. Calculate dot product of the normalized matrix."
      ]
    },
    {
      "cell_type": "code",
      "metadata": {
        "id": "TP8Ev7rAa6ZM",
        "colab_type": "code",
        "colab": {
          "base_uri": "https://localhost:8080/",
          "height": 105
        },
        "outputId": "7c9668c6-1a51-4976-dcd1-d01c484ee901"
      },
      "source": [
        "matrix_norm = matrix / np.linalg.norm(matrix, ord=2, axis=1, keepdims=True)\n",
        "np.dot(matrix_norm, matrix_norm.T)"
      ],
      "execution_count": 4,
      "outputs": [
        {
          "output_type": "execute_result",
          "data": {
            "text/plain": [
              "array([[1.        , 0.98744277, 0.84920778, 0.59246566, 0.46153846],\n",
              "       [0.98744277, 1.        , 0.91798509, 0.70786517, 0.59246566],\n",
              "       [0.84920778, 0.91798509, 1.        , 0.91798509, 0.84920778],\n",
              "       [0.59246566, 0.70786517, 0.91798509, 1.        , 0.98744277],\n",
              "       [0.46153846, 0.59246566, 0.84920778, 0.98744277, 1.        ]])"
            ]
          },
          "metadata": {
            "tags": []
          },
          "execution_count": 4
        }
      ]
    },
    {
      "cell_type": "markdown",
      "metadata": {
        "id": "jt2ggEGRg_kQ",
        "colab_type": "text"
      },
      "source": [
        "### numpy implementation (2)\n",
        " 1. Calculate dot product of the matrix.\n",
        " 2. Devide it by dot product of L2-norm of the matrix."
      ]
    },
    {
      "cell_type": "code",
      "metadata": {
        "id": "Rc2n76yvaUV9",
        "colab_type": "code",
        "colab": {
          "base_uri": "https://localhost:8080/",
          "height": 105
        },
        "outputId": "6d2561c4-e27c-4a7b-e1e8-b7dc53ff15bc"
      },
      "source": [
        "norm = np.linalg.norm(matrix, ord=2, axis=1, keepdims=True)\n",
        "np.dot(matrix, matrix.T) / (np.dot(norm, norm.T))"
      ],
      "execution_count": 5,
      "outputs": [
        {
          "output_type": "execute_result",
          "data": {
            "text/plain": [
              "array([[1.        , 0.98744277, 0.84920778, 0.59246566, 0.46153846],\n",
              "       [0.98744277, 1.        , 0.91798509, 0.70786517, 0.59246566],\n",
              "       [0.84920778, 0.91798509, 1.        , 0.91798509, 0.84920778],\n",
              "       [0.59246566, 0.70786517, 0.91798509, 1.        , 0.98744277],\n",
              "       [0.46153846, 0.59246566, 0.84920778, 0.98744277, 1.        ]])"
            ]
          },
          "metadata": {
            "tags": []
          },
          "execution_count": 5
        }
      ]
    },
    {
      "cell_type": "markdown",
      "metadata": {
        "id": "_KoM-m9yk-MQ",
        "colab_type": "text"
      },
      "source": [
        "## TensorFlow"
      ]
    },
    {
      "cell_type": "markdown",
      "metadata": {
        "id": "YHQ6h9ZdlAb3",
        "colab_type": "text"
      },
      "source": [
        "### setup"
      ]
    },
    {
      "cell_type": "code",
      "metadata": {
        "id": "nzrkholbceag",
        "colab_type": "code",
        "colab": {}
      },
      "source": [
        "if not tf.executing_eagerly():\n",
        "  tf.enable_eager_execution()"
      ],
      "execution_count": 0,
      "outputs": []
    },
    {
      "cell_type": "markdown",
      "metadata": {
        "id": "E1-n9-vEqPM8",
        "colab_type": "text"
      },
      "source": [
        "### TensorFlow implementation (1)\n",
        " 1. Normalize the matrix (L2 normalization).\n",
        " 2. Calculate dot product of the normalized matrix."
      ]
    },
    {
      "cell_type": "code",
      "metadata": {
        "id": "osL50MGRkIRi",
        "colab_type": "code",
        "colab": {
          "base_uri": "https://localhost:8080/",
          "height": 105
        },
        "outputId": "df07586c-7546-4ee7-8709-83605b93ee4d"
      },
      "source": [
        "norm_matrix = tf.nn.l2_normalize(matrix, axis=1)\n",
        "tf.matmul(norm_matrix, norm_matrix, transpose_b=True).numpy()"
      ],
      "execution_count": 7,
      "outputs": [
        {
          "output_type": "execute_result",
          "data": {
            "text/plain": [
              "array([[1.        , 0.98744277, 0.84920778, 0.59246566, 0.46153846],\n",
              "       [0.98744277, 1.        , 0.91798509, 0.70786517, 0.59246566],\n",
              "       [0.84920778, 0.91798509, 1.        , 0.91798509, 0.84920778],\n",
              "       [0.59246566, 0.70786517, 0.91798509, 1.        , 0.98744277],\n",
              "       [0.46153846, 0.59246566, 0.84920778, 0.98744277, 1.        ]])"
            ]
          },
          "metadata": {
            "tags": []
          },
          "execution_count": 7
        }
      ]
    },
    {
      "cell_type": "markdown",
      "metadata": {
        "id": "YFkJWGe9qpii",
        "colab_type": "text"
      },
      "source": [
        "### TensorFlow implementation (2)\n",
        " 1. Calculate dot product of the matrix.\n",
        " 2. Devide it by dot product of L2-norm of the matrix."
      ]
    },
    {
      "cell_type": "code",
      "metadata": {
        "id": "K4dx0vNskqL4",
        "colab_type": "code",
        "colab": {
          "base_uri": "https://localhost:8080/",
          "height": 122
        },
        "outputId": "6e0e8e37-04a3-4ba7-b498-e4d2a7c2cbd8"
      },
      "source": [
        "norm = tf.norm(matrix, ord=2, axis=1, keepdims=True)\n",
        "tf.matmul(matrix, matrix, transpose_b=True) / tf.matmul(norm, norm, transpose_b=True).numpy()"
      ],
      "execution_count": 8,
      "outputs": [
        {
          "output_type": "execute_result",
          "data": {
            "text/plain": [
              "<tf.Tensor: id=19, shape=(5, 5), dtype=float64, numpy=\n",
              "array([[1.        , 0.98744277, 0.84920778, 0.59246566, 0.46153846],\n",
              "       [0.98744277, 1.        , 0.91798509, 0.70786517, 0.59246566],\n",
              "       [0.84920778, 0.91798509, 1.        , 0.91798509, 0.84920778],\n",
              "       [0.59246566, 0.70786517, 0.91798509, 1.        , 0.98744277],\n",
              "       [0.46153846, 0.59246566, 0.84920778, 0.98744277, 1.        ]])>"
            ]
          },
          "metadata": {
            "tags": []
          },
          "execution_count": 8
        }
      ]
    }
  ]
}